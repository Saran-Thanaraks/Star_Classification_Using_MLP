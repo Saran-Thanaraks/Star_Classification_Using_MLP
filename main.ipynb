{
 "cells": [
  {
   "cell_type": "markdown",
   "metadata": {},
   "source": [
    "Import Library\n",
    "***"
   ]
  },
  {
   "cell_type": "code",
   "execution_count": 1,
   "metadata": {},
   "outputs": [],
   "source": [
    "import pandas as pd\n",
    "from sklearn import preprocessing\n",
    "from sklearn.model_selection import train_test_split\n",
    "import matplotlib.pyplot as plt\n",
    "import seaborn as sns \n",
    "from sklearn.metrics import confusion_matrix \n",
    "from sklearn.neural_network import MLPClassifier\n",
    "from sklearn.metrics import classification_report\n"
   ]
  },
  {
   "cell_type": "markdown",
   "metadata": {},
   "source": [
    "Import Dataset\n",
    "***"
   ]
  },
  {
   "cell_type": "code",
   "execution_count": 2,
   "metadata": {},
   "outputs": [
    {
     "name": "stdout",
     "output_type": "stream",
     "text": [
      "<class 'pandas.core.frame.DataFrame'>\n",
      "RangeIndex: 240 entries, 0 to 239\n",
      "Data columns (total 7 columns):\n",
      " #   Column                  Non-Null Count  Dtype  \n",
      "---  ------                  --------------  -----  \n",
      " 0   Temperature (K)         239 non-null    object \n",
      " 1   Luminosity(L/Lo)        239 non-null    object \n",
      " 2   Radius(R/Ro)            239 non-null    object \n",
      " 3   Absolute magnitude(Mv)  239 non-null    object \n",
      " 4   Star type               239 non-null    float64\n",
      " 5   Star color              239 non-null    object \n",
      " 6   Spectral Class          239 non-null    object \n",
      "dtypes: float64(1), object(6)\n",
      "memory usage: 13.2+ KB\n"
     ]
    },
    {
     "data": {
      "text/html": [
       "<div>\n",
       "<style scoped>\n",
       "    .dataframe tbody tr th:only-of-type {\n",
       "        vertical-align: middle;\n",
       "    }\n",
       "\n",
       "    .dataframe tbody tr th {\n",
       "        vertical-align: top;\n",
       "    }\n",
       "\n",
       "    .dataframe thead th {\n",
       "        text-align: right;\n",
       "    }\n",
       "</style>\n",
       "<table border=\"1\" class=\"dataframe\">\n",
       "  <thead>\n",
       "    <tr style=\"text-align: right;\">\n",
       "      <th></th>\n",
       "      <th>Temperature (K)</th>\n",
       "      <th>Luminosity(L/Lo)</th>\n",
       "      <th>Radius(R/Ro)</th>\n",
       "      <th>Absolute magnitude(Mv)</th>\n",
       "      <th>Star type</th>\n",
       "      <th>Star color</th>\n",
       "      <th>Spectral Class</th>\n",
       "    </tr>\n",
       "  </thead>\n",
       "  <tbody>\n",
       "    <tr>\n",
       "      <th>0</th>\n",
       "      <td>NaN</td>\n",
       "      <td>NaN</td>\n",
       "      <td>NaN</td>\n",
       "      <td>NaN</td>\n",
       "      <td>NaN</td>\n",
       "      <td>NaN</td>\n",
       "      <td>NaN</td>\n",
       "    </tr>\n",
       "    <tr>\n",
       "      <th>1</th>\n",
       "      <td>3042</td>\n",
       "      <td>0.0005</td>\n",
       "      <td>0.1542</td>\n",
       "      <td>16.6</td>\n",
       "      <td>0.0</td>\n",
       "      <td>Red</td>\n",
       "      <td>M</td>\n",
       "    </tr>\n",
       "    <tr>\n",
       "      <th>2</th>\n",
       "      <td>2600</td>\n",
       "      <td>0.0003</td>\n",
       "      <td>0.102</td>\n",
       "      <td>18.7</td>\n",
       "      <td>0.0</td>\n",
       "      <td>Red</td>\n",
       "      <td>M</td>\n",
       "    </tr>\n",
       "    <tr>\n",
       "      <th>3</th>\n",
       "      <td>2800</td>\n",
       "      <td>0.0002</td>\n",
       "      <td></td>\n",
       "      <td>16.65</td>\n",
       "      <td>0.0</td>\n",
       "      <td>Red</td>\n",
       "      <td>M</td>\n",
       "    </tr>\n",
       "    <tr>\n",
       "      <th>4</th>\n",
       "      <td>1939</td>\n",
       "      <td>0.000138</td>\n",
       "      <td>0.103</td>\n",
       "      <td>20.06</td>\n",
       "      <td>0.0</td>\n",
       "      <td>Red</td>\n",
       "      <td>M</td>\n",
       "    </tr>\n",
       "  </tbody>\n",
       "</table>\n",
       "</div>"
      ],
      "text/plain": [
       "  Temperature (K) Luminosity(L/Lo) Radius(R/Ro) Absolute magnitude(Mv)  \\\n",
       "0             NaN              NaN          NaN                    NaN   \n",
       "1            3042           0.0005       0.1542                   16.6   \n",
       "2            2600           0.0003        0.102                   18.7   \n",
       "3            2800           0.0002                               16.65   \n",
       "4            1939         0.000138        0.103                  20.06   \n",
       "\n",
       "   Star type Star color Spectral Class  \n",
       "0        NaN        NaN            NaN  \n",
       "1        0.0        Red              M  \n",
       "2        0.0        Red              M  \n",
       "3        0.0        Red              M  \n",
       "4        0.0        Red              M  "
      ]
     },
     "execution_count": 2,
     "metadata": {},
     "output_type": "execute_result"
    }
   ],
   "source": [
    "# Load data\n",
    "data=pd.read_csv('cleaned_star_data.csv')\n",
    "\n",
    "# Show data\n",
    "data.info()\n",
    "data.head()\n"
   ]
  },
  {
   "cell_type": "markdown",
   "metadata": {},
   "source": [
    "Drop Null\n",
    "*******"
   ]
  },
  {
   "cell_type": "code",
   "execution_count": 3,
   "metadata": {},
   "outputs": [
    {
     "name": "stdout",
     "output_type": "stream",
     "text": [
      "====== Before Drop Null ======\n",
      "Temperature (K)           3\n",
      "Luminosity(L/Lo)          7\n",
      "Radius(R/Ro)              8\n",
      "Absolute magnitude(Mv)    6\n",
      "Star type                 1\n",
      "Star color                7\n",
      "Spectral Class            3\n",
      "dtype: int64\n",
      "\n",
      "====== After Drop Null ======\n",
      "Temperature (K)           0\n",
      "Luminosity(L/Lo)          0\n",
      "Radius(R/Ro)              0\n",
      "Absolute magnitude(Mv)    0\n",
      "Star type                 0\n",
      "Star color                0\n",
      "Spectral Class            0\n",
      "dtype: int64\n"
     ]
    }
   ],
   "source": [
    "print(\"====== Before Drop Null ======\")\n",
    "for col in data.columns:\n",
    "    null_replace = data[col].replace(\" \",None)\n",
    "    data[col] = null_replace\n",
    "\n",
    "data.isna().sum()\n",
    "\n",
    "print(data.isna().sum())\n",
    "# data = data.dropna()\n",
    "\n",
    "data = data.dropna()\n",
    "print(\"\")\n",
    "print(\"====== After Drop Null ======\")\n",
    "print(data.isna().sum())"
   ]
  },
  {
   "cell_type": "markdown",
   "metadata": {},
   "source": [
    "Data Transformation : Encoding String Feature \n",
    "******"
   ]
  },
  {
   "cell_type": "code",
   "execution_count": 4,
   "metadata": {},
   "outputs": [
    {
     "name": "stdout",
     "output_type": "stream",
     "text": [
      "Encoding Star color ==> integer\n",
      "Encoding Spectral Class ==> integer\n"
     ]
    },
    {
     "data": {
      "text/html": [
       "<div>\n",
       "<style scoped>\n",
       "    .dataframe tbody tr th:only-of-type {\n",
       "        vertical-align: middle;\n",
       "    }\n",
       "\n",
       "    .dataframe tbody tr th {\n",
       "        vertical-align: top;\n",
       "    }\n",
       "\n",
       "    .dataframe thead th {\n",
       "        text-align: right;\n",
       "    }\n",
       "</style>\n",
       "<table border=\"1\" class=\"dataframe\">\n",
       "  <thead>\n",
       "    <tr style=\"text-align: right;\">\n",
       "      <th></th>\n",
       "      <th>Temperature (K)</th>\n",
       "      <th>Luminosity(L/Lo)</th>\n",
       "      <th>Radius(R/Ro)</th>\n",
       "      <th>Absolute magnitude(Mv)</th>\n",
       "      <th>Star type</th>\n",
       "      <th>Star color</th>\n",
       "      <th>Spectral Class</th>\n",
       "    </tr>\n",
       "  </thead>\n",
       "  <tbody>\n",
       "    <tr>\n",
       "      <th>1</th>\n",
       "      <td>3042</td>\n",
       "      <td>0.0005</td>\n",
       "      <td>0.1542</td>\n",
       "      <td>16.6</td>\n",
       "      <td>0.0</td>\n",
       "      <td>2</td>\n",
       "      <td>5</td>\n",
       "    </tr>\n",
       "    <tr>\n",
       "      <th>2</th>\n",
       "      <td>2600</td>\n",
       "      <td>0.0003</td>\n",
       "      <td>0.102</td>\n",
       "      <td>18.7</td>\n",
       "      <td>0.0</td>\n",
       "      <td>2</td>\n",
       "      <td>5</td>\n",
       "    </tr>\n",
       "    <tr>\n",
       "      <th>4</th>\n",
       "      <td>1939</td>\n",
       "      <td>0.000138</td>\n",
       "      <td>0.103</td>\n",
       "      <td>20.06</td>\n",
       "      <td>0.0</td>\n",
       "      <td>2</td>\n",
       "      <td>5</td>\n",
       "    </tr>\n",
       "    <tr>\n",
       "      <th>6</th>\n",
       "      <td>2637</td>\n",
       "      <td>0.00073</td>\n",
       "      <td>0.127</td>\n",
       "      <td>17.22</td>\n",
       "      <td>0.0</td>\n",
       "      <td>2</td>\n",
       "      <td>5</td>\n",
       "    </tr>\n",
       "    <tr>\n",
       "      <th>7</th>\n",
       "      <td>2600</td>\n",
       "      <td>0.0004</td>\n",
       "      <td>0.096</td>\n",
       "      <td>17.4</td>\n",
       "      <td>0.0</td>\n",
       "      <td>2</td>\n",
       "      <td>5</td>\n",
       "    </tr>\n",
       "  </tbody>\n",
       "</table>\n",
       "</div>"
      ],
      "text/plain": [
       "  Temperature (K) Luminosity(L/Lo) Radius(R/Ro) Absolute magnitude(Mv)  \\\n",
       "1            3042           0.0005       0.1542                   16.6   \n",
       "2            2600           0.0003        0.102                   18.7   \n",
       "4            1939         0.000138        0.103                  20.06   \n",
       "6            2637          0.00073        0.127                  17.22   \n",
       "7            2600           0.0004        0.096                   17.4   \n",
       "\n",
       "   Star type  Star color  Spectral Class  \n",
       "1        0.0           2               5  \n",
       "2        0.0           2               5  \n",
       "4        0.0           2               5  \n",
       "6        0.0           2               5  \n",
       "7        0.0           2               5  "
      ]
     },
     "execution_count": 4,
     "metadata": {},
     "output_type": "execute_result"
    }
   ],
   "source": [
    "# Creating labelEncoder\n",
    "le = preprocessing.LabelEncoder()\n",
    "\n",
    "# Converting string labels into numbers.\n",
    "encode_list = [\"Star color\", \"Spectral Class\"]\n",
    "\n",
    "for col in data.columns:\n",
    "    if col in (encode_list):\n",
    "        data[col]=le.fit_transform(data[col])\n",
    "        print(\"Encoding \" + col + \" ==>\" + \" integer\")\n",
    "\n",
    "data.head()"
   ]
  },
  {
   "cell_type": "markdown",
   "metadata": {},
   "source": [
    "Change Column Datatype\n",
    "***"
   ]
  },
  {
   "cell_type": "code",
   "execution_count": 5,
   "metadata": {},
   "outputs": [
    {
     "name": "stdout",
     "output_type": "stream",
     "text": [
      "======= Before =======\n",
      "<class 'pandas.core.frame.DataFrame'>\n",
      "Index: 215 entries, 1 to 239\n",
      "Data columns (total 7 columns):\n",
      " #   Column                  Non-Null Count  Dtype  \n",
      "---  ------                  --------------  -----  \n",
      " 0   Temperature (K)         215 non-null    object \n",
      " 1   Luminosity(L/Lo)        215 non-null    object \n",
      " 2   Radius(R/Ro)            215 non-null    object \n",
      " 3   Absolute magnitude(Mv)  215 non-null    object \n",
      " 4   Star type               215 non-null    float64\n",
      " 5   Star color              215 non-null    int32  \n",
      " 6   Spectral Class          215 non-null    int32  \n",
      "dtypes: float64(1), int32(2), object(4)\n",
      "memory usage: 11.8+ KB\n",
      "None\n"
     ]
    }
   ],
   "source": [
    "print(\"======= Before =======\")\n",
    "print(data.info())"
   ]
  },
  {
   "cell_type": "code",
   "execution_count": 6,
   "metadata": {},
   "outputs": [
    {
     "name": "stdout",
     "output_type": "stream",
     "text": [
      "======= After =======\n",
      "<class 'pandas.core.frame.DataFrame'>\n",
      "Index: 215 entries, 1 to 239\n",
      "Data columns (total 7 columns):\n",
      " #   Column                  Non-Null Count  Dtype  \n",
      "---  ------                  --------------  -----  \n",
      " 0   Temperature (K)         215 non-null    int32  \n",
      " 1   Luminosity(L/Lo)        215 non-null    float64\n",
      " 2   Radius(R/Ro)            215 non-null    float64\n",
      " 3   Absolute magnitude(Mv)  215 non-null    float64\n",
      " 4   Star type               215 non-null    int32  \n",
      " 5   Star color              215 non-null    int32  \n",
      " 6   Spectral Class          215 non-null    int32  \n",
      "dtypes: float64(3), int32(4)\n",
      "memory usage: 10.1 KB\n",
      "None\n"
     ]
    }
   ],
   "source": [
    "float_dtype_col = [\"Luminosity(L/Lo)\", \"Radius(R/Ro)\", \"Absolute magnitude(Mv)\"]\n",
    "int_dtype_col = [\"Temperature (K)\", \"Star type\"]\n",
    "\n",
    "data[float_dtype_col] = data[float_dtype_col].astype(float)\n",
    "data[int_dtype_col] = data[int_dtype_col].astype(int)\n",
    "\n",
    "\n",
    "print(\"======= After =======\")\n",
    "print(data.info())"
   ]
  },
  {
   "cell_type": "markdown",
   "metadata": {},
   "source": [
    "Feature Extraction\n",
    "***"
   ]
  },
  {
   "cell_type": "code",
   "execution_count": 7,
   "metadata": {},
   "outputs": [],
   "source": [
    "X = data.drop([\"Star type\"],axis=1)   #Feature Matrix\n",
    "Y = data[\"Star type\"]          #Target Variable"
   ]
  },
  {
   "cell_type": "markdown",
   "metadata": {},
   "source": [
    "Test, Train Split\n",
    "***"
   ]
  },
  {
   "cell_type": "code",
   "execution_count": 8,
   "metadata": {},
   "outputs": [],
   "source": [
    "# Split dataset into training set and test set\n",
    "X_train, X_test, Y_train, Y_test = train_test_split(X, Y, test_size=0.3, random_state=42)  # 70% training and 30% test"
   ]
  },
  {
   "cell_type": "markdown",
   "metadata": {},
   "source": [
    "Feature Nomalization\n",
    "********"
   ]
  },
  {
   "cell_type": "code",
   "execution_count": 9,
   "metadata": {},
   "outputs": [],
   "source": [
    "X_train_normalized = preprocessing.normalize(X_train,norm=\"l2\" ,axis=0)\n",
    "X_test_normalized = preprocessing.normalize(X_test,norm=\"l2\" ,axis=0)\n"
   ]
  },
  {
   "cell_type": "markdown",
   "metadata": {},
   "source": [
    "Target Distributions\n",
    "***"
   ]
  },
  {
   "cell_type": "code",
   "execution_count": 10,
   "metadata": {},
   "outputs": [
    {
     "data": {
      "text/plain": [
       "Text(0, 0.5, 'count')"
      ]
     },
     "execution_count": 10,
     "metadata": {},
     "output_type": "execute_result"
    },
    {
     "data": {
      "image/png": "[encoded data removed]",
      "text/plain": [
       "<Figure size 640x480 with 1 Axes>"
      ]
     },
     "metadata": {},
     "output_type": "display_data"
    }
   ],
   "source": [
    "classes = [\"Brown Dwarf\", \"Red Dwarf\", \"White Dwarf\", \"Main Sequence\", \"Supergiant\", \"Hypergiants\"]\n",
    "\n",
    "train_count = {}\n",
    "test_count = {}\n",
    "\n",
    "for c in range(0,len(classes)):\n",
    "    train_count[classes[c]] = list(Y_train).count(c)\n",
    "    test_count[classes[c]] = list(Y_test).count(c)\n",
    "\n",
    "graph = pd.DataFrame({\n",
    "    \"train\": train_count,\n",
    "    \"test\": test_count,\n",
    "    },\n",
    "    index = classes\n",
    ")\n",
    "\n",
    "graph.plot(kind=\"bar\")\n",
    "plt.title(\"Numbers of Image in Dataset\")\n",
    "plt.xlabel(\"Rock Classes\")\n",
    "plt.ylabel(\"count\")"
   ]
  },
  {
   "cell_type": "markdown",
   "metadata": {},
   "source": [
    "Train Model\n",
    "***"
   ]
  },
  {
   "cell_type": "code",
   "execution_count": 11,
   "metadata": {},
   "outputs": [
    {
     "name": "stdout",
     "output_type": "stream",
     "text": [
      "Iteration 1, loss = 1.83501281\n",
      "Iteration 2, loss = 1.79943267\n",
      "Iteration 3, loss = 1.78969582\n",
      "Iteration 4, loss = 1.77731931\n",
      "Iteration 5, loss = 1.76400593\n",
      "Iteration 6, loss = 1.74817171\n",
      "Iteration 7, loss = 1.72871394\n",
      "Iteration 8, loss = 1.69251351\n",
      "Iteration 9, loss = 1.65291018\n",
      "Iteration 10, loss = 1.60770537\n",
      "Iteration 11, loss = 1.55638568\n",
      "Iteration 12, loss = 1.50316090\n",
      "Iteration 13, loss = 1.45324478\n",
      "Iteration 14, loss = 1.42795182\n",
      "Iteration 15, loss = 1.35551555\n",
      "Iteration 16, loss = 1.30572597\n",
      "Iteration 17, loss = 1.27829443\n",
      "Iteration 18, loss = 1.21433855\n",
      "Iteration 19, loss = 1.22909425\n",
      "Iteration 20, loss = 1.15331477\n",
      "Iteration 21, loss = 1.16698277\n",
      "Iteration 22, loss = 1.08467768\n",
      "Iteration 23, loss = 1.10132802\n",
      "Iteration 24, loss = 1.02424824\n",
      "Iteration 25, loss = 1.03554903\n",
      "Iteration 26, loss = 0.97466127\n",
      "Iteration 27, loss = 0.96293884\n",
      "Iteration 28, loss = 0.89330733\n",
      "Iteration 29, loss = 0.87612420\n",
      "Iteration 30, loss = 0.81077102\n",
      "Iteration 31, loss = 0.80038604\n",
      "Iteration 32, loss = 0.75829533\n",
      "Iteration 33, loss = 0.69576412\n",
      "Iteration 34, loss = 0.68498598\n",
      "Iteration 35, loss = 0.63912140\n",
      "Iteration 36, loss = 0.59233353\n",
      "Iteration 37, loss = 0.58333427\n",
      "Iteration 38, loss = 0.56219232\n",
      "Iteration 39, loss = 0.51560225\n",
      "Iteration 40, loss = 0.47457622\n",
      "Iteration 41, loss = 0.44902445\n",
      "Iteration 42, loss = 0.43722873\n",
      "Iteration 43, loss = 0.46604697\n",
      "Iteration 44, loss = 0.53500267\n",
      "Iteration 45, loss = 0.45157231\n",
      "Iteration 46, loss = 0.36151499\n",
      "Iteration 47, loss = 0.39349261\n",
      "Iteration 48, loss = 0.36145419\n",
      "Iteration 49, loss = 0.33985535\n",
      "Iteration 50, loss = 0.33068522\n",
      "Iteration 51, loss = 0.30118779\n",
      "Iteration 52, loss = 0.28253957\n",
      "Iteration 53, loss = 0.28622176\n",
      "Iteration 54, loss = 0.26687542\n",
      "Iteration 55, loss = 0.23821949\n",
      "Iteration 56, loss = 0.24272905\n",
      "Iteration 57, loss = 0.23403848\n",
      "Iteration 58, loss = 0.24253427\n",
      "Iteration 59, loss = 0.24671828\n",
      "Iteration 60, loss = 0.22622360\n",
      "Iteration 61, loss = 0.20492178\n",
      "Iteration 62, loss = 0.17797304\n",
      "Iteration 63, loss = 0.17800584\n",
      "Iteration 64, loss = 0.18726587\n",
      "Iteration 65, loss = 0.19477949\n",
      "Iteration 66, loss = 0.20107429\n",
      "Iteration 67, loss = 0.17821350\n",
      "Iteration 68, loss = 0.16358874\n",
      "Iteration 69, loss = 0.14246649\n",
      "Iteration 70, loss = 0.13745629\n",
      "Iteration 71, loss = 0.14276448\n",
      "Iteration 72, loss = 0.15394485\n",
      "Iteration 73, loss = 0.18026148\n",
      "Iteration 74, loss = 0.16990969\n",
      "Iteration 75, loss = 0.17644740\n",
      "Iteration 76, loss = 0.13487474\n",
      "Iteration 77, loss = 0.11345060\n",
      "Iteration 78, loss = 0.12106546\n",
      "Iteration 79, loss = 0.13241122\n",
      "Iteration 80, loss = 0.13250878\n",
      "Iteration 81, loss = 0.10726058\n",
      "Iteration 82, loss = 0.10360556\n",
      "Iteration 83, loss = 0.11566649\n",
      "Iteration 84, loss = 0.10863373\n",
      "Iteration 85, loss = 0.09325575\n",
      "Iteration 86, loss = 0.09877385\n",
      "Iteration 87, loss = 0.10173418\n",
      "Iteration 88, loss = 0.10356883\n",
      "Iteration 89, loss = 0.08572186\n",
      "Iteration 90, loss = 0.08749629\n",
      "Iteration 91, loss = 0.11103591\n",
      "Iteration 92, loss = 0.11781124\n",
      "Iteration 93, loss = 0.15314798\n",
      "Iteration 94, loss = 0.09341022\n",
      "Iteration 95, loss = 0.07859930\n",
      "Iteration 96, loss = 0.11248642\n",
      "Iteration 97, loss = 0.10836019\n",
      "Iteration 98, loss = 0.11523145\n",
      "Iteration 99, loss = 0.07010114\n",
      "Iteration 100, loss = 0.09516276\n",
      "Iteration 101, loss = 0.16807382\n",
      "Iteration 102, loss = 0.08295502\n",
      "Iteration 103, loss = 0.07204630\n",
      "Iteration 104, loss = 0.10209883\n",
      "Iteration 105, loss = 0.07147345\n",
      "Iteration 106, loss = 0.05956730\n",
      "Iteration 107, loss = 0.07518160\n",
      "Iteration 108, loss = 0.05842214\n",
      "Iteration 109, loss = 0.06068117\n",
      "Iteration 110, loss = 0.07220132\n",
      "Iteration 111, loss = 0.05383812\n",
      "Iteration 112, loss = 0.05274461\n",
      "Iteration 113, loss = 0.05985975\n",
      "Iteration 114, loss = 0.04751824\n",
      "Iteration 115, loss = 0.05425679\n",
      "Iteration 116, loss = 0.05573778\n",
      "Iteration 117, loss = 0.04443657\n",
      "Iteration 118, loss = 0.05078837\n",
      "Iteration 119, loss = 0.05082807\n",
      "Iteration 120, loss = 0.04160343\n",
      "Iteration 121, loss = 0.04793771\n",
      "Iteration 122, loss = 0.04622377\n",
      "Iteration 123, loss = 0.03936016\n",
      "Iteration 124, loss = 0.04573873\n",
      "Iteration 125, loss = 0.04348080\n",
      "Iteration 126, loss = 0.03648385\n",
      "Iteration 127, loss = 0.04204090\n",
      "Iteration 128, loss = 0.04005925\n",
      "Iteration 129, loss = 0.03449132\n",
      "Iteration 130, loss = 0.03981451\n",
      "Iteration 131, loss = 0.03672441\n",
      "Iteration 132, loss = 0.03222836\n",
      "Iteration 133, loss = 0.03636495\n",
      "Iteration 134, loss = 0.03320752\n",
      "Iteration 135, loss = 0.03065675\n",
      "Iteration 136, loss = 0.03352441\n",
      "Iteration 137, loss = 0.02981596\n",
      "Iteration 138, loss = 0.02935021\n",
      "Iteration 139, loss = 0.03053275\n",
      "Iteration 140, loss = 0.02732095\n",
      "Iteration 141, loss = 0.02821945\n",
      "Iteration 142, loss = 0.02799530\n",
      "Iteration 143, loss = 0.02556246\n",
      "Iteration 144, loss = 0.02660808\n",
      "Iteration 145, loss = 0.02517330\n",
      "Iteration 146, loss = 0.02425460\n",
      "Iteration 147, loss = 0.02471424\n",
      "Iteration 148, loss = 0.02306870\n",
      "Iteration 149, loss = 0.02318351\n",
      "Iteration 150, loss = 0.02274869\n",
      "Iteration 151, loss = 0.02159191\n",
      "Iteration 152, loss = 0.02183917\n",
      "Iteration 153, loss = 0.02084157\n",
      "Iteration 154, loss = 0.02043721\n",
      "Iteration 155, loss = 0.02027027\n",
      "Iteration 156, loss = 0.01937629\n",
      "Iteration 157, loss = 0.01932546\n",
      "Iteration 158, loss = 0.01869755\n",
      "Iteration 159, loss = 0.01820674\n",
      "Iteration 160, loss = 0.01799971\n",
      "Iteration 161, loss = 0.01731628\n",
      "Iteration 162, loss = 0.01714557\n",
      "Iteration 163, loss = 0.01667911\n",
      "Iteration 164, loss = 0.01622659\n",
      "Iteration 165, loss = 0.01598210\n",
      "Iteration 166, loss = 0.01548073\n",
      "Iteration 167, loss = 0.01521604\n",
      "Iteration 168, loss = 0.01485463\n",
      "Iteration 169, loss = 0.01446384\n",
      "Iteration 170, loss = 0.01420821\n",
      "Iteration 171, loss = 0.01381368\n",
      "Iteration 172, loss = 0.01355526\n",
      "Iteration 173, loss = 0.01324302\n",
      "Iteration 174, loss = 0.01290947\n",
      "Iteration 175, loss = 0.01266998\n",
      "Iteration 176, loss = 0.01233207\n",
      "Iteration 177, loss = 0.01208084\n",
      "Iteration 178, loss = 0.01181329\n",
      "Iteration 179, loss = 0.01153271\n",
      "Iteration 180, loss = 0.01130274\n",
      "Iteration 181, loss = 0.01102624\n",
      "Iteration 182, loss = 0.01080609\n",
      "Iteration 183, loss = 0.01055648\n",
      "Iteration 184, loss = 0.01033138\n",
      "Iteration 185, loss = 0.01012157\n",
      "Iteration 186, loss = 0.00989220\n",
      "Iteration 187, loss = 0.00969258\n",
      "Iteration 188, loss = 0.00947583\n",
      "Iteration 189, loss = 0.00928311\n",
      "Iteration 190, loss = 0.00909682\n",
      "Iteration 191, loss = 0.00890415\n",
      "Iteration 192, loss = 0.00872348\n",
      "Iteration 193, loss = 0.00853923\n",
      "Iteration 194, loss = 0.00837851\n",
      "Iteration 195, loss = 0.00820943\n",
      "Iteration 196, loss = 0.00804379\n",
      "Iteration 197, loss = 0.00789243\n",
      "Iteration 198, loss = 0.00773312\n",
      "Iteration 199, loss = 0.00758784\n",
      "Iteration 200, loss = 0.00744513\n",
      "Iteration 201, loss = 0.00730309\n",
      "Iteration 202, loss = 0.00717313\n",
      "Iteration 203, loss = 0.00703809\n",
      "Iteration 204, loss = 0.00690966\n",
      "Iteration 205, loss = 0.00678233\n",
      "Iteration 206, loss = 0.00666381\n",
      "Iteration 207, loss = 0.00654549\n",
      "Iteration 208, loss = 0.00643072\n",
      "Iteration 209, loss = 0.00631995\n",
      "Iteration 210, loss = 0.00621338\n",
      "Iteration 211, loss = 0.00610858\n",
      "Iteration 212, loss = 0.00600525\n",
      "Iteration 213, loss = 0.00590610\n",
      "Iteration 214, loss = 0.00580877\n",
      "Iteration 215, loss = 0.00571553\n",
      "Iteration 216, loss = 0.00562373\n",
      "Iteration 217, loss = 0.00553309\n",
      "Iteration 218, loss = 0.00544691\n",
      "Iteration 219, loss = 0.00536273\n",
      "Iteration 220, loss = 0.00527941\n",
      "Iteration 221, loss = 0.00520148\n",
      "Iteration 222, loss = 0.00512410\n",
      "Iteration 223, loss = 0.00504602\n",
      "Training loss did not improve more than tol=0.000100 for 10 consecutive epochs. Stopping.\n"
     ]
    },
    {
     "data": {
      "text/html": [
       "<style>#sk-container-id-1 {color: black;}#sk-container-id-1 pre{padding: 0;}#sk-container-id-1 div.sk-toggleable {background-color: white;}#sk-container-id-1 label.sk-toggleable__label {cursor: pointer;display: block;width: 100%;margin-bottom: 0;padding: 0.3em;box-sizing: border-box;text-align: center;}#sk-container-id-1 label.sk-toggleable__label-arrow:before {content: \"▸\";float: left;margin-right: 0.25em;color: #696969;}#sk-container-id-1 label.sk-toggleable__label-arrow:hover:before {color: black;}#sk-container-id-1 div.sk-estimator:hover label.sk-toggleable__label-arrow:before {color: black;}#sk-container-id-1 div.sk-toggleable__content {max-height: 0;max-width: 0;overflow: hidden;text-align: left;background-color: #f0f8ff;}#sk-container-id-1 div.sk-toggleable__content pre {margin: 0.2em;color: black;border-radius: 0.25em;background-color: #f0f8ff;}#sk-container-id-1 input.sk-toggleable__control:checked~div.sk-toggleable__content {max-height: 200px;max-width: 100%;overflow: auto;}#sk-container-id-1 input.sk-toggleable__control:checked~label.sk-toggleable__label-arrow:before {content: \"▾\";}#sk-container-id-1 div.sk-estimator input.sk-toggleable__control:checked~label.sk-toggleable__label {background-color: #d4ebff;}#sk-container-id-1 div.sk-label input.sk-toggleable__control:checked~label.sk-toggleable__label {background-color: #d4ebff;}#sk-container-id-1 input.sk-hidden--visually {border: 0;clip: rect(1px 1px 1px 1px);clip: rect(1px, 1px, 1px, 1px);height: 1px;margin: -1px;overflow: hidden;padding: 0;position: absolute;width: 1px;}#sk-container-id-1 div.sk-estimator {font-family: monospace;background-color: #f0f8ff;border: 1px dotted black;border-radius: 0.25em;box-sizing: border-box;margin-bottom: 0.5em;}#sk-container-id-1 div.sk-estimator:hover {background-color: #d4ebff;}#sk-container-id-1 div.sk-parallel-item::after {content: \"\";width: 100%;border-bottom: 1px solid gray;flex-grow: 1;}#sk-container-id-1 div.sk-label:hover label.sk-toggleable__label {background-color: #d4ebff;}#sk-container-id-1 div.sk-serial::before {content: \"\";position: absolute;border-left: 1px solid gray;box-sizing: border-box;top: 0;bottom: 0;left: 50%;z-index: 0;}#sk-container-id-1 div.sk-serial {display: flex;flex-direction: column;align-items: center;background-color: white;padding-right: 0.2em;padding-left: 0.2em;position: relative;}#sk-container-id-1 div.sk-item {position: relative;z-index: 1;}#sk-container-id-1 div.sk-parallel {display: flex;align-items: stretch;justify-content: center;background-color: white;position: relative;}#sk-container-id-1 div.sk-item::before, #sk-container-id-1 div.sk-parallel-item::before {content: \"\";position: absolute;border-left: 1px solid gray;box-sizing: border-box;top: 0;bottom: 0;left: 50%;z-index: -1;}#sk-container-id-1 div.sk-parallel-item {display: flex;flex-direction: column;z-index: 1;position: relative;background-color: white;}#sk-container-id-1 div.sk-parallel-item:first-child::after {align-self: flex-end;width: 50%;}#sk-container-id-1 div.sk-parallel-item:last-child::after {align-self: flex-start;width: 50%;}#sk-container-id-1 div.sk-parallel-item:only-child::after {width: 0;}#sk-container-id-1 div.sk-dashed-wrapped {border: 1px dashed gray;margin: 0 0.4em 0.5em 0.4em;box-sizing: border-box;padding-bottom: 0.4em;background-color: white;}#sk-container-id-1 div.sk-label label {font-family: monospace;font-weight: bold;display: inline-block;line-height: 1.2em;}#sk-container-id-1 div.sk-label-container {text-align: center;}#sk-container-id-1 div.sk-container {/* jupyter's `normalize.less` sets `[hidden] { display: none; }` but bootstrap.min.css set `[hidden] { display: none !important; }` so we also need the `!important` here to be able to override the default hidden behavior on the sphinx rendered scikit-learn.org. See: https://github.com/scikit-learn/scikit-learn/issues/21755 */display: inline-block !important;position: relative;}#sk-container-id-1 div.sk-text-repr-fallback {display: none;}</style><div id=\"sk-container-id-1\" class=\"sk-top-container\"><div class=\"sk-text-repr-fallback\"><pre>MLPClassifier(hidden_layer_sizes=(16, 24, 29, 12), learning_rate_init=0.029,\n",
       "              max_iter=300, random_state=6, verbose=True)</pre><b>In a Jupyter environment, please rerun this cell to show the HTML representation or trust the notebook. <br />On GitHub, the HTML representation is unable to render, please try loading this page with nbviewer.org.</b></div><div class=\"sk-container\" hidden><div class=\"sk-item\"><div class=\"sk-estimator sk-toggleable\"><input class=\"sk-toggleable__control sk-hidden--visually\" id=\"sk-estimator-id-1\" type=\"checkbox\" checked><label for=\"sk-estimator-id-1\" class=\"sk-toggleable__label sk-toggleable__label-arrow\">MLPClassifier</label><div class=\"sk-toggleable__content\"><pre>MLPClassifier(hidden_layer_sizes=(16, 24, 29, 12), learning_rate_init=0.029,\n",
       "              max_iter=300, random_state=6, verbose=True)</pre></div></div></div></div></div>"
      ],
      "text/plain": [
       "MLPClassifier(hidden_layer_sizes=(16, 24, 29, 12), learning_rate_init=0.029,\n",
       "              max_iter=300, random_state=6, verbose=True)"
      ]
     },
     "execution_count": 11,
     "metadata": {},
     "output_type": "execute_result"
    }
   ],
   "source": [
    "# Create model object\n",
    "clf = MLPClassifier(hidden_layer_sizes=(16,24,29,12), # - 16,24,32,27,12  - 16,24,29,12\n",
    "                    random_state=6,\n",
    "                    verbose=True,\n",
    "                    solver='adam', #default\n",
    "                    activation='relu', #defualt rectified linear unit function\n",
    "                    learning_rate_init=0.029, \n",
    "                    n_iter_no_change=10,\n",
    "                    max_iter=300\n",
    "                    )\n",
    "clf.fit(X_train_normalized,Y_train)"
   ]
  },
  {
   "cell_type": "markdown",
   "metadata": {},
   "source": [
    "Show Loss Curve\n",
    "***"
   ]
  },
  {
   "cell_type": "code",
   "execution_count": 12,
   "metadata": {},
   "outputs": [
    {
     "data": {
      "image/png": "[encoded data removed]",
      "text/plain": [
       "<Figure size 640x480 with 1 Axes>"
      ]
     },
     "metadata": {},
     "output_type": "display_data"
    }
   ],
   "source": [
    "loss_values = clf.loss_curve_\n",
    "\n",
    "plt.plot(loss_values)\n",
    "plt.show()"
   ]
  },
  {
   "cell_type": "markdown",
   "metadata": {},
   "source": [
    "Show Confusion Matrix\n",
    "***"
   ]
  },
  {
   "cell_type": "code",
   "execution_count": 13,
   "metadata": {},
   "outputs": [
    {
     "data": {
      "image/png": "[encoded data removed]",
      "text/plain": [
       "<Figure size 640x480 with 2 Axes>"
      ]
     },
     "metadata": {},
     "output_type": "display_data"
    }
   ],
   "source": [
    "Y_predict = clf.predict(X_test_normalized)\n",
    "\n",
    "cm = confusion_matrix(Y_test, Y_predict)\n",
    "ax= plt.subplot()\n",
    "sns.heatmap(cm, cmap='PuRd', annot=True, fmt='g', ax=ax);  #annot=True to annotate cells, ftm='g' to disable scientific notation\n",
    "\n",
    "ax.set_xlabel('Predicted labels');ax.set_ylabel('True labels'); \n",
    "ax.set_title('Confusion Matrix'); "
   ]
  },
  {
   "cell_type": "markdown",
   "metadata": {},
   "source": [
    "Show Model Evaluation score\n",
    "***"
   ]
  },
  {
   "cell_type": "code",
   "execution_count": 14,
   "metadata": {},
   "outputs": [
    {
     "name": "stdout",
     "output_type": "stream",
     "text": [
      "              precision    recall  f1-score   support\n",
      "\n",
      "           0       0.75      1.00      0.86         9\n",
      "           1       1.00      0.70      0.82        10\n",
      "           2       1.00      1.00      1.00        13\n",
      "           3       1.00      0.92      0.96        13\n",
      "           4       0.88      1.00      0.93         7\n",
      "           5       1.00      1.00      1.00        13\n",
      "\n",
      "    accuracy                           0.94        65\n",
      "   macro avg       0.94      0.94      0.93        65\n",
      "weighted avg       0.95      0.94      0.94        65\n",
      "\n"
     ]
    }
   ],
   "source": [
    "print(classification_report(Y_test,Y_predict))"
   ]
  }
 ],
 "metadata": {
  "kernelspec": {
   "display_name": "Python 3",
   "language": "python",
   "name": "python3"
  },
  "language_info": {
   "codemirror_mode": {
    "name": "ipython",
    "version": 3
   },
   "file_extension": ".py",
   "mimetype": "text/x-python",
   "name": "python",
   "nbconvert_exporter": "python",
   "pygments_lexer": "ipython3",
   "version": "3.9.9"
  }
 },
 "nbformat": 4,
 "nbformat_minor": 2
}
